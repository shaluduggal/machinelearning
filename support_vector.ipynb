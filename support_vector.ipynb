{
  "nbformat": 4,
  "nbformat_minor": 0,
  "metadata": {
    "kernelspec": {
      "display_name": "Python 3",
      "language": "python",
      "name": "python3"
    },
    "language_info": {
      "codemirror_mode": {
        "name": "ipython",
        "version": 3
      },
      "file_extension": ".py",
      "mimetype": "text/x-python",
      "name": "python",
      "nbconvert_exporter": "python",
      "pygments_lexer": "ipython3",
      "version": "3.8.5"
    },
    "colab": {
      "name": "support_vector.ipynb",
      "provenance": [],
      "include_colab_link": true
    }
  },
  "cells": [
    {
      "cell_type": "markdown",
      "metadata": {
        "id": "view-in-github",
        "colab_type": "text"
      },
      "source": [
        "<a href=\"https://colab.research.google.com/github/shaluduggal/shaluduggal/blob/machinelearning/support_vector.ipynb\" target=\"_parent\"><img src=\"https://colab.research.google.com/assets/colab-badge.svg\" alt=\"Open In Colab\"/></a>"
      ]
    },
    {
      "cell_type": "code",
      "metadata": {
        "id": "p33nmfuqoer8"
      },
      "source": [
        "\n",
        "\n",
        "import pandas as pd\n",
        "import matplotlib.pyplot as plt\n",
        "import numpy as np\n",
        "from sklearn.svm import SVC\n",
        "from sklearn import datasets\n",
        "from sklearn.preprocessing import StandardScaler\n",
        "from sklearn import metrics\n",
        "from sklearn import tree\n",
        "from sklearn.model_selection import train_test_split"
      ],
      "execution_count": null,
      "outputs": []
    },
    {
      "cell_type": "code",
      "metadata": {
        "id": "1YWFPBtBoer_",
        "outputId": "98669ffb-aea5-4cc6-eda6-db33f6b44384"
      },
      "source": [
        "iris=datasets.load_iris()\n",
        "x=iris.data\n",
        "y=iris.target\n",
        "print('class labels',np.unique(y))"
      ],
      "execution_count": null,
      "outputs": [
        {
          "output_type": "stream",
          "text": [
            "class labels [0 1 2]\n"
          ],
          "name": "stdout"
        }
      ]
    },
    {
      "cell_type": "code",
      "metadata": {
        "id": "hB9pgvAloesA",
        "outputId": "5be3bb30-9bb2-464b-f22a-1b092936d7fa"
      },
      "source": [
        "sc=StandardScaler()\n",
        "sc.fit(x)\n",
        "X=sc.transform(x)\n",
        "x_train,x_test,y_train,y_test=train_test_split(X,y,train_size=0.8,random_state=0)\n",
        "clf=SVC(C=1.0,kernel='rbf',random_state=None)\n",
        "clf.fit(x_train,y_train)\n",
        "print('train accuracy',metrics.accuracy_score(y_train,clf.predict(x_train)))\n",
        "print('test  accuracy',metrics.accuracy_score(y_test,clf.predict(x_test)))\n",
        "print('train confusion matrix',metrics.confusion_matrix(y_train,clf.predict(x_train)))\n",
        "print('test confusion matrix',metrics.confusion_matrix(y_test,clf.predict(x_test)))\n",
        "print('train classification report',metrics.classification_report(y_train,clf.predict(x_train)))\n",
        "print('test classification report',metrics.classification_report(y_test,clf.predict(x_test)))\n"
      ],
      "execution_count": null,
      "outputs": [
        {
          "output_type": "stream",
          "text": [
            "train accuracy 0.9583333333333334\n",
            "test  accuracy 1.0\n",
            "train confusion matrix [[39  0  0]\n",
            " [ 0 35  2]\n",
            " [ 0  3 41]]\n",
            "test confusion matrix [[11  0  0]\n",
            " [ 0 13  0]\n",
            " [ 0  0  6]]\n",
            "train classification report               precision    recall  f1-score   support\n",
            "\n",
            "           0       1.00      1.00      1.00        39\n",
            "           1       0.92      0.95      0.93        37\n",
            "           2       0.95      0.93      0.94        44\n",
            "\n",
            "    accuracy                           0.96       120\n",
            "   macro avg       0.96      0.96      0.96       120\n",
            "weighted avg       0.96      0.96      0.96       120\n",
            "\n",
            "test classification report               precision    recall  f1-score   support\n",
            "\n",
            "           0       1.00      1.00      1.00        11\n",
            "           1       1.00      1.00      1.00        13\n",
            "           2       1.00      1.00      1.00         6\n",
            "\n",
            "    accuracy                           1.00        30\n",
            "   macro avg       1.00      1.00      1.00        30\n",
            "weighted avg       1.00      1.00      1.00        30\n",
            "\n"
          ],
          "name": "stdout"
        }
      ]
    },
    {
      "cell_type": "code",
      "metadata": {
        "id": "w3haHTTBoesA",
        "outputId": "13de0373-78fb-4f5b-e374-215dd6cb7fa9"
      },
      "source": [
        "#drawing boundary of classifier\n",
        "from sklearn.datasets import make_classification\n",
        "X,y=make_classification(100,2,2,0,weights=[0.5,0.5],random_state=0)\n",
        "clf1=SVC(kernel='linear',random_state=0)\n",
        "clf1.fit(X,y)\n",
        "w=clf1.coef_[0]\n",
        "a=-w[0]/w[1]\n",
        "xx=np.linspace(-5,5)\n",
        "yy=a*xx-(clf1.intercept_[0])/w[1]\n",
        "b=clf1.support_vectors_[0]\n",
        "yy_down=a*xx+(b[1]-a*b[0])\n",
        "b=clf1.support_vectors_[-1]\n",
        "yy_up=a*xx+(b[1]-a*b[0])\n"
      ],
      "execution_count": null,
      "outputs": [
        {
          "output_type": "stream",
          "text": [
            "C:\\Users\\DELL\\anaconda3\\lib\\site-packages\\sklearn\\utils\\validation.py:67: FutureWarning: Pass n_informative=2, n_redundant=0 as keyword args. From version 0.25 passing these as positional arguments will result in an error\n",
            "  warnings.warn(\"Pass {} as keyword args. From version 0.25 \"\n"
          ],
          "name": "stderr"
        }
      ]
    },
    {
      "cell_type": "code",
      "metadata": {
        "id": "Sgd3QQYIoesB",
        "outputId": "15695193-b833-456c-b9c0-c3cb8b24e093"
      },
      "source": [
        "from mlxtend.plotting import plot_decision_regions\n",
        "\n",
        "plot_decision_regions(X,y,clf=clf1)\n",
        "plt.scatter(clf1.support_vectors_[:,0],clf1.support_vectors_[:,1],s=80,facecolors='none')\n",
        "plt.plot(xx,yy_down,'k--')\n",
        "plt.plot(xx,yy_up,'k--')\n",
        "plt.legend(loc=\"upper left\")\n",
        "plt.tight_layout()\n",
        "plt.show()"
      ],
      "execution_count": null,
      "outputs": [
        {
          "output_type": "display_data",
          "data": {
            "image/png": "[encoded data removed]",
            "text/plain": [
              "<Figure size 432x288 with 1 Axes>"
            ]
          },
          "metadata": {
            "tags": [],
            "needs_background": "light"
          }
        }
      ]
    }
  ]
}