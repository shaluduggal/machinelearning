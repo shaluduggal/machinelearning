{
  "nbformat": 4,
  "nbformat_minor": 0,
  "metadata": {
    "kernelspec": {
      "display_name": "Python 3",
      "language": "python",
      "name": "python3"
    },
    "language_info": {
      "codemirror_mode": {
        "name": "ipython",
        "version": 3
      },
      "file_extension": ".py",
      "mimetype": "text/x-python",
      "name": "python",
      "nbconvert_exporter": "python",
      "pygments_lexer": "ipython3",
      "version": "3.8.5"
    },
    "colab": {
      "name": "logistic regression.ipynb",
      "provenance": [],
      "include_colab_link": true
    }
  },
  "cells": [
    {
      "cell_type": "markdown",
      "metadata": {
        "id": "view-in-github",
        "colab_type": "text"
      },
      "source": [
        "<a href=\"https://colab.research.google.com/github/shaluduggal/shaluduggal/blob/machinelearning/logistic_regression.ipynb\" target=\"_parent\"><img src=\"https://colab.research.google.com/assets/colab-badge.svg\" alt=\"Open In Colab\"/></a>"
      ]
    },
    {
      "cell_type": "code",
      "metadata": {
        "id": "c1XfOJ_ynfpO"
      },
      "source": [
        "from sklearn.linear_model import LogisticRegression\n",
        "import matplotlib.pyplot as plt\n",
        "import numpy as np\n",
        "from sklearn import metrics\n",
        "import pandas as pd\n",
        "import sklearn.datasets"
      ],
      "execution_count": null,
      "outputs": []
    },
    {
      "cell_type": "code",
      "metadata": {
        "id": "NWzALkAJnfpR",
        "outputId": "9bbd05bd-f301-4e1d-fa8a-17930fa2426b"
      },
      "source": [
        "\n",
        "x=np.linspace(-10,10,100)\n",
        "y=1.0/(1.0+np.exp(-x))\n",
        "plt.plot(x,y,'r-',label='logit')\n",
        "plt.legend(loc='lower right')"
      ],
      "execution_count": null,
      "outputs": [
        {
          "output_type": "execute_result",
          "data": {
            "text/plain": [
              "<matplotlib.legend.Legend at 0x240f3d558b0>"
            ]
          },
          "metadata": {
            "tags": []
          },
          "execution_count": 2
        },
        {
          "output_type": "display_data",
          "data": {
            "image/png": "[encoded data removed]",
            "text/plain": [
              "<Figure size 432x288 with 1 Axes>"
            ]
          },
          "metadata": {
            "tags": [],
            "needs_background": "light"
          }
        }
      ]
    },
    {
      "cell_type": "code",
      "metadata": {
        "id": "izu1xzZOnfpS",
        "outputId": "3467a1a7-ef13-46d9-8398-a0f7802dde39"
      },
      "source": [
        "df=pd.read_excel('C:\\DATASET\\data.xlsx',sheet_name='grade_set_1_classification')\n",
        "df"
      ],
      "execution_count": null,
      "outputs": [
        {
          "output_type": "execute_result",
          "data": {
            "text/html": [
              "<div>\n",
              "<style scoped>\n",
              "    .dataframe tbody tr th:only-of-type {\n",
              "        vertical-align: middle;\n",
              "    }\n",
              "\n",
              "    .dataframe tbody tr th {\n",
              "        vertical-align: top;\n",
              "    }\n",
              "\n",
              "    .dataframe thead th {\n",
              "        text-align: right;\n",
              "    }\n",
              "</style>\n",
              "<table border=\"1\" class=\"dataframe\">\n",
              "  <thead>\n",
              "    <tr style=\"text-align: right;\">\n",
              "      <th></th>\n",
              "      <th>Hours_Studied</th>\n",
              "      <th>Result</th>\n",
              "    </tr>\n",
              "  </thead>\n",
              "  <tbody>\n",
              "    <tr>\n",
              "      <th>0</th>\n",
              "      <td>2</td>\n",
              "      <td>0</td>\n",
              "    </tr>\n",
              "    <tr>\n",
              "      <th>1</th>\n",
              "      <td>3</td>\n",
              "      <td>0</td>\n",
              "    </tr>\n",
              "    <tr>\n",
              "      <th>2</th>\n",
              "      <td>4</td>\n",
              "      <td>0</td>\n",
              "    </tr>\n",
              "    <tr>\n",
              "      <th>3</th>\n",
              "      <td>5</td>\n",
              "      <td>1</td>\n",
              "    </tr>\n",
              "    <tr>\n",
              "      <th>4</th>\n",
              "      <td>6</td>\n",
              "      <td>1</td>\n",
              "    </tr>\n",
              "    <tr>\n",
              "      <th>5</th>\n",
              "      <td>7</td>\n",
              "      <td>1</td>\n",
              "    </tr>\n",
              "    <tr>\n",
              "      <th>6</th>\n",
              "      <td>8</td>\n",
              "      <td>1</td>\n",
              "    </tr>\n",
              "    <tr>\n",
              "      <th>7</th>\n",
              "      <td>9</td>\n",
              "      <td>1</td>\n",
              "    </tr>\n",
              "    <tr>\n",
              "      <th>8</th>\n",
              "      <td>10</td>\n",
              "      <td>1</td>\n",
              "    </tr>\n",
              "  </tbody>\n",
              "</table>\n",
              "</div>"
            ],
            "text/plain": [
              "   Hours_Studied  Result\n",
              "0              2       0\n",
              "1              3       0\n",
              "2              4       0\n",
              "3              5       1\n",
              "4              6       1\n",
              "5              7       1\n",
              "6              8       1\n",
              "7              9       1\n",
              "8             10       1"
            ]
          },
          "metadata": {
            "tags": []
          },
          "execution_count": 4
        }
      ]
    },
    {
      "cell_type": "code",
      "metadata": {
        "id": "rdUYrVuCnfpT",
        "outputId": "d5e0f6b6-8729-4db6-fe57-af887cb7cd1e"
      },
      "source": [
        "\n",
        "x=df.Hours_Studied[:,np.newaxis]\n",
        "y=df.Result\n",
        "df['Intercept']=1\n",
        "indep_vars=['Hours_Studied','Intercept']\n",
        "x=df[indep_vars]\n",
        "y=df['Result']\n",
        "model=LogisticRegression()\n",
        "model=model.fit(x,y)\n",
        "\n",
        "#check accuracy of the model on training dataset\n",
        "model.score(x,y)\n",
        "print(model.predict(x))\n",
        "print(model.predict_proba(x)[:,0])\n",
        "\n",
        "\n",
        "plt.scatter(df.Hours_Studied,y,color='black')\n",
        "plt.yticks([0.0,0.5,1.0])\n",
        "plt.plot(df.Hours_Studied,model.predict_proba(x)[:,1],color='blue',linewidth=3)\n",
        "plt.title('hrs vs result')\n",
        "plt.xlabel('study hours')\n",
        "plt.ylabel('result')"
      ],
      "execution_count": null,
      "outputs": [
        {
          "output_type": "stream",
          "text": [
            "[0 0 0 1 1 1 1 1 1]\n",
            "[0.94631938 0.84686389 0.63434384 0.35242027 0.14582452 0.05083257\n",
            " 0.01652264 0.00524262 0.00165055]\n"
          ],
          "name": "stdout"
        },
        {
          "output_type": "stream",
          "text": [
            "<ipython-input-9-738f094e182d>:1: FutureWarning: Support for multi-dimensional indexing (e.g. `obj[:, None]`) is deprecated and will be removed in a future version.  Convert to a numpy array before indexing instead.\n",
            "  x=df.Hours_Studied[:,np.newaxis]\n"
          ],
          "name": "stderr"
        },
        {
          "output_type": "execute_result",
          "data": {
            "text/plain": [
              "Text(0, 0.5, 'result')"
            ]
          },
          "metadata": {
            "tags": []
          },
          "execution_count": 9
        },
        {
          "output_type": "display_data",
          "data": {
            "image/png": "[encoded data removed]",
            "text/plain": [
              "<Figure size 432x288 with 1 Axes>"
            ]
          },
          "metadata": {
            "tags": [],
            "needs_background": "light"
          }
        }
      ]
    },
    {
      "cell_type": "code",
      "metadata": {
        "id": "iOw3semfnfpT",
        "outputId": "f5966508-7543-4b99-e63f-c009dcdf2542"
      },
      "source": [
        "#confusion matrix\n",
        "\n",
        "print ('accuracy :',metrics.accuracy_score(y,model.predict(x)))\n",
        "print ('AUC :',metrics.roc_auc_score(y,model.predict_proba(x)[:,1]))\n",
        "print ('confusion matrix  :',metrics.confusion_matrix(y,model.predict(x)))\n",
        "print ('classification report :',metrics.classification_report(y,model.predict(x)))"
      ],
      "execution_count": null,
      "outputs": [
        {
          "output_type": "error",
          "ename": "NameError",
          "evalue": "name 'model' is not defined",
          "traceback": [
            "\u001b[1;31m---------------------------------------------------------------------------\u001b[0m",
            "\u001b[1;31mNameError\u001b[0m                                 Traceback (most recent call last)",
            "\u001b[1;32m<ipython-input-20-cf8b2ab46678>\u001b[0m in \u001b[0;36m<module>\u001b[1;34m\u001b[0m\n\u001b[0;32m      1\u001b[0m \u001b[1;31m#confusion matrix\u001b[0m\u001b[1;33m\u001b[0m\u001b[1;33m\u001b[0m\u001b[1;33m\u001b[0m\u001b[0m\n\u001b[0;32m      2\u001b[0m \u001b[1;33m\u001b[0m\u001b[0m\n\u001b[1;32m----> 3\u001b[1;33m \u001b[0mprint\u001b[0m \u001b[1;33m(\u001b[0m\u001b[1;34m'accuracy :'\u001b[0m\u001b[1;33m,\u001b[0m\u001b[0mmetrics\u001b[0m\u001b[1;33m.\u001b[0m\u001b[0maccuracy_score\u001b[0m\u001b[1;33m(\u001b[0m\u001b[0my\u001b[0m\u001b[1;33m,\u001b[0m\u001b[0mmodel\u001b[0m\u001b[1;33m.\u001b[0m\u001b[0mpredict\u001b[0m\u001b[1;33m(\u001b[0m\u001b[0mx\u001b[0m\u001b[1;33m)\u001b[0m\u001b[1;33m)\u001b[0m\u001b[1;33m)\u001b[0m\u001b[1;33m\u001b[0m\u001b[1;33m\u001b[0m\u001b[0m\n\u001b[0m\u001b[0;32m      4\u001b[0m \u001b[0mprint\u001b[0m \u001b[1;33m(\u001b[0m\u001b[1;34m'AUC :'\u001b[0m\u001b[1;33m,\u001b[0m\u001b[0mmetrics\u001b[0m\u001b[1;33m.\u001b[0m\u001b[0mroc_auc_score\u001b[0m\u001b[1;33m(\u001b[0m\u001b[0my\u001b[0m\u001b[1;33m,\u001b[0m\u001b[0mmodel\u001b[0m\u001b[1;33m.\u001b[0m\u001b[0mpredict_proba\u001b[0m\u001b[1;33m(\u001b[0m\u001b[0mx\u001b[0m\u001b[1;33m)\u001b[0m\u001b[1;33m[\u001b[0m\u001b[1;33m:\u001b[0m\u001b[1;33m,\u001b[0m\u001b[1;36m1\u001b[0m\u001b[1;33m]\u001b[0m\u001b[1;33m)\u001b[0m\u001b[1;33m)\u001b[0m\u001b[1;33m\u001b[0m\u001b[1;33m\u001b[0m\u001b[0m\n\u001b[0;32m      5\u001b[0m \u001b[0mprint\u001b[0m \u001b[1;33m(\u001b[0m\u001b[1;34m'confusion matrix  :'\u001b[0m\u001b[1;33m,\u001b[0m\u001b[0mmetrics\u001b[0m\u001b[1;33m.\u001b[0m\u001b[0mconfusion_matrix\u001b[0m\u001b[1;33m(\u001b[0m\u001b[0my\u001b[0m\u001b[1;33m,\u001b[0m\u001b[0mmodel\u001b[0m\u001b[1;33m.\u001b[0m\u001b[0mpredict\u001b[0m\u001b[1;33m(\u001b[0m\u001b[0mx\u001b[0m\u001b[1;33m)\u001b[0m\u001b[1;33m)\u001b[0m\u001b[1;33m)\u001b[0m\u001b[1;33m\u001b[0m\u001b[1;33m\u001b[0m\u001b[0m\n",
            "\u001b[1;31mNameError\u001b[0m: name 'model' is not defined"
          ]
        }
      ]
    },
    {
      "cell_type": "code",
      "metadata": {
        "id": "ASBV0MfqnfpU",
        "outputId": "4a81d894-1247-491a-b0d5-03f731780007"
      },
      "source": [
        "fpr,tpr,_ =metrics.roc_curve(y,model.predict_proba(x)[:,1])\n",
        "roc_auc=metrics.auc(fpr,tpr)\n",
        "print ('roc auc : %0.2f' %roc_auc)\n",
        "plt.figure()\n",
        "plt.plot(fpr,tpr,label='roc curve (area= %0.2f)' %roc_auc)\n",
        "plt.plot([0,1],[0,1],'k--')\n",
        "plt.xlim(0.0,1.0)\n",
        "plt.ylim([0.0,1.05])\n",
        "plt.xlabel('fpr')\n",
        "plt.ylabel('tpr')\n",
        "plt.title('roc curve')\n",
        "plt.legend(loc='lower right')\n",
        "plt.show()"
      ],
      "execution_count": null,
      "outputs": [
        {
          "output_type": "error",
          "ename": "NameError",
          "evalue": "name 'y' is not defined",
          "traceback": [
            "\u001b[1;31m---------------------------------------------------------------------------\u001b[0m",
            "\u001b[1;31mNameError\u001b[0m                                 Traceback (most recent call last)",
            "\u001b[1;32m<ipython-input-2-1caa7987ed6a>\u001b[0m in \u001b[0;36m<module>\u001b[1;34m\u001b[0m\n\u001b[1;32m----> 1\u001b[1;33m \u001b[0mfpr\u001b[0m\u001b[1;33m,\u001b[0m\u001b[0mtpr\u001b[0m\u001b[1;33m,\u001b[0m\u001b[0m_\u001b[0m \u001b[1;33m=\u001b[0m\u001b[0mmetrics\u001b[0m\u001b[1;33m.\u001b[0m\u001b[0mroc_curve\u001b[0m\u001b[1;33m(\u001b[0m\u001b[0my\u001b[0m\u001b[1;33m,\u001b[0m\u001b[0mmodel\u001b[0m\u001b[1;33m.\u001b[0m\u001b[0mpredict_proba\u001b[0m\u001b[1;33m(\u001b[0m\u001b[0mx\u001b[0m\u001b[1;33m)\u001b[0m\u001b[1;33m[\u001b[0m\u001b[1;33m:\u001b[0m\u001b[1;33m,\u001b[0m\u001b[1;36m1\u001b[0m\u001b[1;33m]\u001b[0m\u001b[1;33m)\u001b[0m\u001b[1;33m\u001b[0m\u001b[1;33m\u001b[0m\u001b[0m\n\u001b[0m\u001b[0;32m      2\u001b[0m \u001b[0mroc_auc\u001b[0m\u001b[1;33m=\u001b[0m\u001b[0mmetrics\u001b[0m\u001b[1;33m.\u001b[0m\u001b[0mauc\u001b[0m\u001b[1;33m(\u001b[0m\u001b[0mfpr\u001b[0m\u001b[1;33m,\u001b[0m\u001b[0mtpr\u001b[0m\u001b[1;33m)\u001b[0m\u001b[1;33m\u001b[0m\u001b[1;33m\u001b[0m\u001b[0m\n\u001b[0;32m      3\u001b[0m \u001b[0mprint\u001b[0m \u001b[1;33m(\u001b[0m\u001b[1;34m'roc auc : %0.2f'\u001b[0m \u001b[1;33m%\u001b[0m\u001b[0mroc_auc\u001b[0m\u001b[1;33m)\u001b[0m\u001b[1;33m\u001b[0m\u001b[1;33m\u001b[0m\u001b[0m\n\u001b[0;32m      4\u001b[0m \u001b[0mplt\u001b[0m\u001b[1;33m.\u001b[0m\u001b[0mfigure\u001b[0m\u001b[1;33m(\u001b[0m\u001b[1;33m)\u001b[0m\u001b[1;33m\u001b[0m\u001b[1;33m\u001b[0m\u001b[0m\n\u001b[0;32m      5\u001b[0m \u001b[0mplt\u001b[0m\u001b[1;33m.\u001b[0m\u001b[0mplot\u001b[0m\u001b[1;33m(\u001b[0m\u001b[0mfpr\u001b[0m\u001b[1;33m,\u001b[0m\u001b[0mtpr\u001b[0m\u001b[1;33m,\u001b[0m\u001b[0mlabel\u001b[0m\u001b[1;33m=\u001b[0m\u001b[1;34m'roc curve (area= %0.2f)'\u001b[0m \u001b[1;33m%\u001b[0m\u001b[0mroc_auc\u001b[0m\u001b[1;33m)\u001b[0m\u001b[1;33m\u001b[0m\u001b[1;33m\u001b[0m\u001b[0m\n",
            "\u001b[1;31mNameError\u001b[0m: name 'y' is not defined"
          ]
        }
      ]
    },
    {
      "cell_type": "code",
      "metadata": {
        "id": "XSPAepBunfpU",
        "outputId": "f4ef7845-e2be-49fa-f6f1-13f015076867"
      },
      "source": [
        "#instantiate  a logistic regresion model with default c value and fit with x y\n",
        "model=LogisticRegression()\n",
        "model=model.fit(x,y)\n",
        "\n",
        "#chk accuracy for train set\n",
        "print('c=1, accuracy:',metrics.accuracy_score(y,model.predict(x)))\n",
        "\n",
        "model1=LogisticRegression(C=10)\n",
        "model1=model1.fit(x,y)\n",
        "\n",
        "#chk accuracy for train set\n",
        "print('c=10, accuracy:',metrics.accuracy_score(y,model1.predict(x)))\n",
        "\n",
        "\n",
        "model2=LogisticRegression(C=100)\n",
        "model2=model2.fit(x,y)\n",
        "\n",
        "#chk accuracy for train set\n",
        "print('c=100, accuracy:',metrics.accuracy_score(y,model2.predict(x)))\n",
        "\n",
        "\n",
        "model3=LogisticRegression(C=1000)\n",
        "model3=model3.fit(x,y)\n",
        "\n",
        "#chk accuracy for train set\n",
        "print('c=1000, accuracy:',metrics.accuracy_score(y,model3.predict(x)))"
      ],
      "execution_count": null,
      "outputs": [
        {
          "output_type": "stream",
          "text": [
            "c=1, accuracy: 1.0\n",
            "c=10, accuracy: 1.0\n",
            "c=100, accuracy: 1.0\n",
            "c=1000, accuracy: 1.0\n"
          ],
          "name": "stdout"
        }
      ]
    },
    {
      "cell_type": "code",
      "metadata": {
        "id": "niRG6uoRnfpU",
        "outputId": "b5eb060c-46ff-4552-c941-4b0d8ef3b151"
      },
      "source": [
        "#PLOTTING FITTED LINES\n",
        "plt.scatter(df.Hours_Studied,y,color='black',label='result')\n",
        "plt.yticks([0.0,0.5,1.0])\n",
        "plt.plot(df.Hours_Studied,model.predict_proba(x)[:,1],color='gray',linewidth=2,label='c 1.0')\n",
        "plt.plot(df.Hours_Studied,model1.predict_proba(x)[:,1],color='green',linewidth=2,label='c 10')\n",
        "plt.plot(df.Hours_Studied,model2.predict_proba(x)[:,1],color='blue',linewidth=2,label='c 100')\n",
        "plt.plot(df.Hours_Studied,model3.predict_proba(x)[:,1],color='red',linewidth=2,label='c 1000')\n",
        "plt.legend(loc='lower right')\n",
        "plt.title('HRs studied and result')\n",
        "plt.ylabel('result')\n",
        "plt.xlabel('hours studied')\n",
        "plt.show()"
      ],
      "execution_count": null,
      "outputs": [
        {
          "output_type": "display_data",
          "data": {
            "image/png": "[encoded data removed]",
            "text/plain": [
              "<Figure size 432x288 with 1 Axes>"
            ]
          },
          "metadata": {
            "tags": [],
            "needs_background": "light"
          }
        }
      ]
    }
  ]
}