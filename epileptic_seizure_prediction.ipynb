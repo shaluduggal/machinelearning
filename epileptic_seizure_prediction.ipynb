{
  "nbformat": 4,
  "nbformat_minor": 0,
  "metadata": {
    "colab": {
      "name": "Untitled0.ipynb",
      "provenance": [],
      "authorship_tag": "ABX9TyPyfyy8KcxIzF1Ww7cb4hqd",
      "include_colab_link": true
    },
    "kernelspec": {
      "name": "python3",
      "display_name": "Python 3"
    },
    "language_info": {
      "name": "python"
    }
  },
  "cells": [
    {
      "cell_type": "markdown",
      "metadata": {
        "id": "view-in-github",
        "colab_type": "text"
      },
      "source": [
        "<a href=\"https://colab.research.google.com/github/shaluduggal/shaluduggal/blob/machinelearning/epileptic_seizure_prediction.ipynb\" target=\"_parent\"><img src=\"https://colab.research.google.com/assets/colab-badge.svg\" alt=\"Open In Colab\"/></a>"
      ]
    },
    {
      "cell_type": "code",
      "metadata": {
        "id": "GjA5EZjUa7Me"
      },
      "source": [
        "import io\n",
        "import numpy as np\n",
        "import pandas as pd\n",
        "from google.colab import files\n",
        "import seaborn as sns\n",
        "import matplotlib.pyplot as plt"
      ],
      "execution_count": 296,
      "outputs": []
    },
    {
      "cell_type": "code",
      "metadata": {
        "colab": {
          "resources": {
            "http://localhost:8080/nbextensions/google.colab/files.js": {
              "data": "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",
              "ok": true,
              "headers": [
                [
                  "content-type",
                  "application/javascript"
                ]
              ],
              "status": 200,
              "status_text": ""
            }
          },
          "base_uri": "https://localhost:8080/",
          "height": 72
        },
        "id": "RCXbtyKAglPd",
        "outputId": "a1a86da3-0067-420a-abd5-9833076de082"
      },
      "source": [
        "uploads=files.upload()\n"
      ],
      "execution_count": 286,
      "outputs": [
        {
          "output_type": "display_data",
          "data": {
            "text/html": [
              "\n",
              "     <input type=\"file\" id=\"files-0ac7ad2c-5119-46ee-9498-9a19f76a2796\" name=\"files[]\" multiple disabled\n",
              "        style=\"border:none\" />\n",
              "     <output id=\"result-0ac7ad2c-5119-46ee-9498-9a19f76a2796\">\n",
              "      Upload widget is only available when the cell has been executed in the\n",
              "      current browser session. Please rerun this cell to enable.\n",
              "      </output>\n",
              "      <script src=\"/nbextensions/google.colab/files.js\"></script> "
            ],
            "text/plain": [
              "<IPython.core.display.HTML object>"
            ]
          },
          "metadata": {
            "tags": []
          }
        },
        {
          "output_type": "stream",
          "text": [
            "Saving epileptic.csv to epileptic (2).csv\n"
          ],
          "name": "stdout"
        }
      ]
    },
    {
      "cell_type": "code",
      "metadata": {
        "colab": {
          "base_uri": "https://localhost:8080/",
          "height": 224
        },
        "id": "n_zIzashmUuj",
        "outputId": "7835a502-be69-448d-c8eb-c10aa931d1e5"
      },
      "source": [
        "\n",
        "df= pd.read_csv(io.BytesIO(uploads['epileptic.csv']),encoding='windows-1252')\n",
        "df.head()"
      ],
      "execution_count": 297,
      "outputs": [
        {
          "output_type": "execute_result",
          "data": {
            "text/html": [
              "<div>\n",
              "<style scoped>\n",
              "    .dataframe tbody tr th:only-of-type {\n",
              "        vertical-align: middle;\n",
              "    }\n",
              "\n",
              "    .dataframe tbody tr th {\n",
              "        vertical-align: top;\n",
              "    }\n",
              "\n",
              "    .dataframe thead th {\n",
              "        text-align: right;\n",
              "    }\n",
              "</style>\n",
              "<table border=\"1\" class=\"dataframe\">\n",
              "  <thead>\n",
              "    <tr style=\"text-align: right;\">\n",
              "      <th></th>\n",
              "      <th>id</th>\n",
              "      <th>b</th>\n",
              "      <th>abnormality</th>\n",
              "      <th>mas</th>\n",
              "      <th>c</th>\n",
              "      <th>d</th>\n",
              "      <th>e</th>\n",
              "      <th>f</th>\n",
              "      <th>g</th>\n",
              "      <th>exudates</th>\n",
              "      <th>i</th>\n",
              "      <th>j</th>\n",
              "      <th>k</th>\n",
              "      <th>l</th>\n",
              "      <th>m</th>\n",
              "      <th>n</th>\n",
              "      <th>o</th>\n",
              "      <th>p</th>\n",
              "      <th>q</th>\n",
              "      <th>r</th>\n",
              "      <th>y</th>\n",
              "    </tr>\n",
              "  </thead>\n",
              "  <tbody>\n",
              "    <tr>\n",
              "      <th>0</th>\n",
              "      <td>1</td>\n",
              "      <td>1</td>\n",
              "      <td>1</td>\n",
              "      <td>22</td>\n",
              "      <td>22</td>\n",
              "      <td>22</td>\n",
              "      <td>19</td>\n",
              "      <td>18</td>\n",
              "      <td>14</td>\n",
              "      <td>49.895756</td>\n",
              "      <td>17.775994</td>\n",
              "      <td>5.270920</td>\n",
              "      <td>0.771761</td>\n",
              "      <td>0.018632</td>\n",
              "      <td>0.006864</td>\n",
              "      <td>0.003923</td>\n",
              "      <td>0.003923</td>\n",
              "      <td>0.486903</td>\n",
              "      <td>0.100025</td>\n",
              "      <td>1</td>\n",
              "      <td>0</td>\n",
              "    </tr>\n",
              "    <tr>\n",
              "      <th>1</th>\n",
              "      <td>2</td>\n",
              "      <td>1</td>\n",
              "      <td>1</td>\n",
              "      <td>24</td>\n",
              "      <td>24</td>\n",
              "      <td>22</td>\n",
              "      <td>18</td>\n",
              "      <td>16</td>\n",
              "      <td>13</td>\n",
              "      <td>57.709936</td>\n",
              "      <td>23.799994</td>\n",
              "      <td>3.325423</td>\n",
              "      <td>0.234185</td>\n",
              "      <td>0.003903</td>\n",
              "      <td>0.003903</td>\n",
              "      <td>0.003903</td>\n",
              "      <td>0.003903</td>\n",
              "      <td>0.520908</td>\n",
              "      <td>0.144414</td>\n",
              "      <td>0</td>\n",
              "      <td>0</td>\n",
              "    </tr>\n",
              "    <tr>\n",
              "      <th>2</th>\n",
              "      <td>3</td>\n",
              "      <td>1</td>\n",
              "      <td>1</td>\n",
              "      <td>62</td>\n",
              "      <td>60</td>\n",
              "      <td>59</td>\n",
              "      <td>54</td>\n",
              "      <td>47</td>\n",
              "      <td>33</td>\n",
              "      <td>55.831441</td>\n",
              "      <td>27.993933</td>\n",
              "      <td>12.687485</td>\n",
              "      <td>4.852282</td>\n",
              "      <td>1.393889</td>\n",
              "      <td>0.373252</td>\n",
              "      <td>0.041817</td>\n",
              "      <td>0.007744</td>\n",
              "      <td>0.530904</td>\n",
              "      <td>0.128548</td>\n",
              "      <td>0</td>\n",
              "      <td>1</td>\n",
              "    </tr>\n",
              "    <tr>\n",
              "      <th>3</th>\n",
              "      <td>4</td>\n",
              "      <td>1</td>\n",
              "      <td>1</td>\n",
              "      <td>55</td>\n",
              "      <td>53</td>\n",
              "      <td>53</td>\n",
              "      <td>50</td>\n",
              "      <td>43</td>\n",
              "      <td>31</td>\n",
              "      <td>40.467228</td>\n",
              "      <td>18.445954</td>\n",
              "      <td>9.118901</td>\n",
              "      <td>3.079428</td>\n",
              "      <td>0.840261</td>\n",
              "      <td>0.272434</td>\n",
              "      <td>0.007653</td>\n",
              "      <td>0.001531</td>\n",
              "      <td>0.483284</td>\n",
              "      <td>0.114790</td>\n",
              "      <td>0</td>\n",
              "      <td>0</td>\n",
              "    </tr>\n",
              "    <tr>\n",
              "      <th>4</th>\n",
              "      <td>5</td>\n",
              "      <td>1</td>\n",
              "      <td>1</td>\n",
              "      <td>44</td>\n",
              "      <td>44</td>\n",
              "      <td>44</td>\n",
              "      <td>41</td>\n",
              "      <td>39</td>\n",
              "      <td>27</td>\n",
              "      <td>18.026254</td>\n",
              "      <td>8.570709</td>\n",
              "      <td>0.410381</td>\n",
              "      <td>0.000000</td>\n",
              "      <td>0.000000</td>\n",
              "      <td>0.000000</td>\n",
              "      <td>0.000000</td>\n",
              "      <td>0.000000</td>\n",
              "      <td>0.475935</td>\n",
              "      <td>0.123572</td>\n",
              "      <td>0</td>\n",
              "      <td>1</td>\n",
              "    </tr>\n",
              "  </tbody>\n",
              "</table>\n",
              "</div>"
            ],
            "text/plain": [
              "   id  b  abnormality  mas   c  ...         o         p         q  r  y\n",
              "0   1  1            1   22  22  ...  0.003923  0.486903  0.100025  1  0\n",
              "1   2  1            1   24  24  ...  0.003903  0.520908  0.144414  0  0\n",
              "2   3  1            1   62  60  ...  0.007744  0.530904  0.128548  0  1\n",
              "3   4  1            1   55  53  ...  0.001531  0.483284  0.114790  0  0\n",
              "4   5  1            1   44  44  ...  0.000000  0.475935  0.123572  0  1\n",
              "\n",
              "[5 rows x 21 columns]"
            ]
          },
          "metadata": {
            "tags": []
          },
          "execution_count": 297
        }
      ]
    },
    {
      "cell_type": "code",
      "metadata": {
        "colab": {
          "base_uri": "https://localhost:8080/",
          "height": 350
        },
        "id": "hXu04gtruC1T",
        "outputId": "4d746f7a-d86b-4337-ebd3-0ceaa19cb7b0"
      },
      "source": [
        "sns.countplot(df['y'],label='epileptic')\n"
      ],
      "execution_count": 298,
      "outputs": [
        {
          "output_type": "stream",
          "text": [
            "/usr/local/lib/python3.7/dist-packages/seaborn/_decorators.py:43: FutureWarning: Pass the following variable as a keyword arg: x. From version 0.12, the only valid positional argument will be `data`, and passing other arguments without an explicit keyword will result in an error or misinterpretation.\n",
            "  FutureWarning\n"
          ],
          "name": "stderr"
        },
        {
          "output_type": "execute_result",
          "data": {
            "text/plain": [
              "<matplotlib.axes._subplots.AxesSubplot at 0x7f12fd6bb090>"
            ]
          },
          "metadata": {
            "tags": []
          },
          "execution_count": 298
        },
        {
          "output_type": "display_data",
          "data": {
            "image/png": "[encoded data removed]",
            "text/plain": [
              "<Figure size 432x288 with 1 Axes>"
            ]
          },
          "metadata": {
            "tags": [],
            "needs_background": "light"
          }
        }
      ]
    },
    {
      "cell_type": "code",
      "metadata": {
        "id": "ZtJJPoNV3lmU"
      },
      "source": [
        "from sklearn.preprocessing import StandardScaler\n",
        "from sklearn.model_selection import train_test_split\n",
        "x=df.iloc[:,1:20]\n",
        "#sns.heatmap(x.corr())\n",
        "y=df.iloc[:,20]\n",
        "del x['b']\n",
        "del x['d']\n",
        "del x['f']\n",
        "del x['g']\n"
      ],
      "execution_count": 367,
      "outputs": []
    },
    {
      "cell_type": "code",
      "metadata": {
        "id": "UyivfG2DLIzM"
      },
      "source": [
        "x_tr,x_tst,y_tr,y_tst=train_test_split(x,y,test_size=30)\n",
        "sc=StandardScaler()\n",
        "x_tr=sc.fit_transform(x_tr)\n",
        "x_tst=sc.fit_transform(x_tst)\n"
      ],
      "execution_count": 368,
      "outputs": []
    },
    {
      "cell_type": "code",
      "metadata": {
        "id": "9pa1oBOtYpLQ"
      },
      "source": [
        "#from sklearn.decomposition import PCA\n",
        "#pca = PCA(n_components = 15)\n",
        "#x_tr = pca.fit_transform(x_tr)\n",
        "#x_tst = pca.transform(x_tst)  \n",
        "#explained_variance = pca.explained_variance_ratio_\n",
        "#print(explained_variance)\n"
      ],
      "execution_count": 351,
      "outputs": []
    },
    {
      "cell_type": "code",
      "metadata": {
        "id": "xgkrPCRa8-Sl"
      },
      "source": [
        "from  tensorflow.keras.models import Sequential\n",
        "from tensorflow.keras.layers import Dense,Dropout"
      ],
      "execution_count": 369,
      "outputs": []
    },
    {
      "cell_type": "code",
      "metadata": {
        "id": "j6JJxnU-9qZF"
      },
      "source": [
        "model=Sequential()\n",
        "model.add(Dense(units=25,activation='relu',input_dim=15))\n",
        "model.add(Dense(units=10,activation='relu'))\n",
        "model.add(Dense(units=13,activation='relu'))\n",
        "model.add(Dense(units=8,activation='relu'))\n",
        "\n",
        "model.add(Dense(units=1,activation='sigmoid'))"
      ],
      "execution_count": 387,
      "outputs": []
    },
    {
      "cell_type": "code",
      "metadata": {
        "id": "-nv7xB31B6WI"
      },
      "source": [
        "model.compile(optimizer='adam',loss='binary_crossentropy',metrics=['accuracy'])"
      ],
      "execution_count": 388,
      "outputs": []
    },
    {
      "cell_type": "code",
      "metadata": {
        "colab": {
          "base_uri": "https://localhost:8080/"
        },
        "id": "GtJVlaRWCeWO",
        "outputId": "d5e5828f-9729-4e60-9bdc-1a931d978d1a"
      },
      "source": [
        "model.fit(x_tr,y_tr,batch_size=100,epochs=150)"
      ],
      "execution_count": 389,
      "outputs": [
        {
          "output_type": "stream",
          "text": [
            "Epoch 1/150\n",
            "12/12 [==============================] - 1s 2ms/step - loss: 0.6976 - accuracy: 0.4737\n",
            "Epoch 2/150\n",
            "12/12 [==============================] - 0s 2ms/step - loss: 0.6901 - accuracy: 0.5112\n",
            "Epoch 3/150\n",
            "12/12 [==============================] - 0s 2ms/step - loss: 0.6838 - accuracy: 0.5415\n",
            "Epoch 4/150\n",
            "12/12 [==============================] - 0s 2ms/step - loss: 0.6745 - accuracy: 0.5468\n",
            "Epoch 5/150\n",
            "12/12 [==============================] - 0s 2ms/step - loss: 0.6623 - accuracy: 0.5504\n",
            "Epoch 6/150\n",
            "12/12 [==============================] - 0s 2ms/step - loss: 0.6498 - accuracy: 0.5611\n",
            "Epoch 7/150\n",
            "12/12 [==============================] - 0s 2ms/step - loss: 0.6379 - accuracy: 0.5781\n",
            "Epoch 8/150\n",
            "12/12 [==============================] - 0s 2ms/step - loss: 0.6263 - accuracy: 0.6236\n",
            "Epoch 9/150\n",
            "12/12 [==============================] - 0s 2ms/step - loss: 0.6162 - accuracy: 0.6566\n",
            "Epoch 10/150\n",
            "12/12 [==============================] - 0s 2ms/step - loss: 0.6058 - accuracy: 0.6806\n",
            "Epoch 11/150\n",
            "12/12 [==============================] - 0s 2ms/step - loss: 0.5955 - accuracy: 0.6931\n",
            "Epoch 12/150\n",
            "12/12 [==============================] - 0s 2ms/step - loss: 0.5858 - accuracy: 0.6976\n",
            "Epoch 13/150\n",
            "12/12 [==============================] - 0s 2ms/step - loss: 0.5806 - accuracy: 0.6994\n",
            "Epoch 14/150\n",
            "12/12 [==============================] - 0s 2ms/step - loss: 0.5709 - accuracy: 0.7074\n",
            "Epoch 15/150\n",
            "12/12 [==============================] - 0s 2ms/step - loss: 0.5646 - accuracy: 0.7145\n",
            "Epoch 16/150\n",
            "12/12 [==============================] - 0s 3ms/step - loss: 0.5574 - accuracy: 0.7163\n",
            "Epoch 17/150\n",
            "12/12 [==============================] - 0s 2ms/step - loss: 0.5548 - accuracy: 0.7199\n",
            "Epoch 18/150\n",
            "12/12 [==============================] - 0s 2ms/step - loss: 0.5478 - accuracy: 0.7136\n",
            "Epoch 19/150\n",
            "12/12 [==============================] - 0s 3ms/step - loss: 0.5440 - accuracy: 0.7235\n",
            "Epoch 20/150\n",
            "12/12 [==============================] - 0s 2ms/step - loss: 0.5407 - accuracy: 0.7252\n",
            "Epoch 21/150\n",
            "12/12 [==============================] - 0s 2ms/step - loss: 0.5406 - accuracy: 0.7226\n",
            "Epoch 22/150\n",
            "12/12 [==============================] - 0s 2ms/step - loss: 0.5343 - accuracy: 0.7315\n",
            "Epoch 23/150\n",
            "12/12 [==============================] - 0s 2ms/step - loss: 0.5302 - accuracy: 0.7244\n",
            "Epoch 24/150\n",
            "12/12 [==============================] - 0s 2ms/step - loss: 0.5270 - accuracy: 0.7395\n",
            "Epoch 25/150\n",
            "12/12 [==============================] - 0s 2ms/step - loss: 0.5245 - accuracy: 0.7324\n",
            "Epoch 26/150\n",
            "12/12 [==============================] - 0s 2ms/step - loss: 0.5208 - accuracy: 0.7351\n",
            "Epoch 27/150\n",
            "12/12 [==============================] - 0s 2ms/step - loss: 0.5181 - accuracy: 0.7377\n",
            "Epoch 28/150\n",
            "12/12 [==============================] - 0s 2ms/step - loss: 0.5176 - accuracy: 0.7449\n",
            "Epoch 29/150\n",
            "12/12 [==============================] - 0s 2ms/step - loss: 0.5136 - accuracy: 0.7386\n",
            "Epoch 30/150\n",
            "12/12 [==============================] - 0s 2ms/step - loss: 0.5110 - accuracy: 0.7440\n",
            "Epoch 31/150\n",
            "12/12 [==============================] - 0s 2ms/step - loss: 0.5095 - accuracy: 0.7422\n",
            "Epoch 32/150\n",
            "12/12 [==============================] - 0s 2ms/step - loss: 0.5070 - accuracy: 0.7547\n",
            "Epoch 33/150\n",
            "12/12 [==============================] - 0s 2ms/step - loss: 0.5049 - accuracy: 0.7511\n",
            "Epoch 34/150\n",
            "12/12 [==============================] - 0s 2ms/step - loss: 0.5076 - accuracy: 0.7475\n",
            "Epoch 35/150\n",
            "12/12 [==============================] - 0s 2ms/step - loss: 0.5029 - accuracy: 0.7458\n",
            "Epoch 36/150\n",
            "12/12 [==============================] - 0s 2ms/step - loss: 0.4975 - accuracy: 0.7583\n",
            "Epoch 37/150\n",
            "12/12 [==============================] - 0s 2ms/step - loss: 0.4960 - accuracy: 0.7556\n",
            "Epoch 38/150\n",
            "12/12 [==============================] - 0s 2ms/step - loss: 0.4935 - accuracy: 0.7627\n",
            "Epoch 39/150\n",
            "12/12 [==============================] - 0s 3ms/step - loss: 0.4902 - accuracy: 0.7654\n",
            "Epoch 40/150\n",
            "12/12 [==============================] - 0s 2ms/step - loss: 0.4875 - accuracy: 0.7600\n",
            "Epoch 41/150\n",
            "12/12 [==============================] - 0s 3ms/step - loss: 0.4856 - accuracy: 0.7698\n",
            "Epoch 42/150\n",
            "12/12 [==============================] - 0s 2ms/step - loss: 0.4825 - accuracy: 0.7672\n",
            "Epoch 43/150\n",
            "12/12 [==============================] - 0s 2ms/step - loss: 0.4804 - accuracy: 0.7707\n",
            "Epoch 44/150\n",
            "12/12 [==============================] - 0s 2ms/step - loss: 0.4783 - accuracy: 0.7716\n",
            "Epoch 45/150\n",
            "12/12 [==============================] - 0s 2ms/step - loss: 0.4793 - accuracy: 0.7698\n",
            "Epoch 46/150\n",
            "12/12 [==============================] - 0s 2ms/step - loss: 0.4762 - accuracy: 0.7761\n",
            "Epoch 47/150\n",
            "12/12 [==============================] - 0s 2ms/step - loss: 0.4730 - accuracy: 0.7788\n",
            "Epoch 48/150\n",
            "12/12 [==============================] - 0s 2ms/step - loss: 0.4751 - accuracy: 0.7681\n",
            "Epoch 49/150\n",
            "12/12 [==============================] - 0s 2ms/step - loss: 0.4715 - accuracy: 0.7814\n",
            "Epoch 50/150\n",
            "12/12 [==============================] - 0s 2ms/step - loss: 0.4694 - accuracy: 0.7743\n",
            "Epoch 51/150\n",
            "12/12 [==============================] - 0s 3ms/step - loss: 0.4644 - accuracy: 0.7832\n",
            "Epoch 52/150\n",
            "12/12 [==============================] - 0s 3ms/step - loss: 0.4614 - accuracy: 0.7797\n",
            "Epoch 53/150\n",
            "12/12 [==============================] - 0s 2ms/step - loss: 0.4588 - accuracy: 0.7823\n",
            "Epoch 54/150\n",
            "12/12 [==============================] - 0s 2ms/step - loss: 0.4575 - accuracy: 0.7814\n",
            "Epoch 55/150\n",
            "12/12 [==============================] - 0s 2ms/step - loss: 0.4578 - accuracy: 0.7832\n",
            "Epoch 56/150\n",
            "12/12 [==============================] - 0s 2ms/step - loss: 0.4548 - accuracy: 0.7823\n",
            "Epoch 57/150\n",
            "12/12 [==============================] - 0s 3ms/step - loss: 0.4510 - accuracy: 0.7797\n",
            "Epoch 58/150\n",
            "12/12 [==============================] - 0s 2ms/step - loss: 0.4470 - accuracy: 0.7859\n",
            "Epoch 59/150\n",
            "12/12 [==============================] - 0s 2ms/step - loss: 0.4459 - accuracy: 0.7841\n",
            "Epoch 60/150\n",
            "12/12 [==============================] - 0s 2ms/step - loss: 0.4424 - accuracy: 0.7913\n",
            "Epoch 61/150\n",
            "12/12 [==============================] - 0s 2ms/step - loss: 0.4435 - accuracy: 0.7904\n",
            "Epoch 62/150\n",
            "12/12 [==============================] - 0s 2ms/step - loss: 0.4417 - accuracy: 0.7895\n",
            "Epoch 63/150\n",
            "12/12 [==============================] - 0s 2ms/step - loss: 0.4369 - accuracy: 0.7886\n",
            "Epoch 64/150\n",
            "12/12 [==============================] - 0s 2ms/step - loss: 0.4354 - accuracy: 0.8002\n",
            "Epoch 65/150\n",
            "12/12 [==============================] - 0s 2ms/step - loss: 0.4345 - accuracy: 0.7921\n",
            "Epoch 66/150\n",
            "12/12 [==============================] - 0s 2ms/step - loss: 0.4319 - accuracy: 0.7966\n",
            "Epoch 67/150\n",
            "12/12 [==============================] - 0s 2ms/step - loss: 0.4304 - accuracy: 0.7939\n",
            "Epoch 68/150\n",
            "12/12 [==============================] - 0s 2ms/step - loss: 0.4360 - accuracy: 0.7993\n",
            "Epoch 69/150\n",
            "12/12 [==============================] - 0s 2ms/step - loss: 0.4308 - accuracy: 0.7993\n",
            "Epoch 70/150\n",
            "12/12 [==============================] - 0s 2ms/step - loss: 0.4256 - accuracy: 0.8082\n",
            "Epoch 71/150\n",
            "12/12 [==============================] - 0s 2ms/step - loss: 0.4274 - accuracy: 0.7957\n",
            "Epoch 72/150\n",
            "12/12 [==============================] - 0s 3ms/step - loss: 0.4216 - accuracy: 0.8046\n",
            "Epoch 73/150\n",
            "12/12 [==============================] - 0s 2ms/step - loss: 0.4201 - accuracy: 0.7993\n",
            "Epoch 74/150\n",
            "12/12 [==============================] - 0s 2ms/step - loss: 0.4220 - accuracy: 0.7975\n",
            "Epoch 75/150\n",
            "12/12 [==============================] - 0s 3ms/step - loss: 0.4176 - accuracy: 0.8064\n",
            "Epoch 76/150\n",
            "12/12 [==============================] - 0s 2ms/step - loss: 0.4258 - accuracy: 0.7930\n",
            "Epoch 77/150\n",
            "12/12 [==============================] - 0s 2ms/step - loss: 0.4177 - accuracy: 0.8002\n",
            "Epoch 78/150\n",
            "12/12 [==============================] - 0s 2ms/step - loss: 0.4159 - accuracy: 0.8091\n",
            "Epoch 79/150\n",
            "12/12 [==============================] - 0s 2ms/step - loss: 0.4143 - accuracy: 0.8055\n",
            "Epoch 80/150\n",
            "12/12 [==============================] - 0s 3ms/step - loss: 0.4184 - accuracy: 0.8037\n",
            "Epoch 81/150\n",
            "12/12 [==============================] - 0s 2ms/step - loss: 0.4203 - accuracy: 0.7975\n",
            "Epoch 82/150\n",
            "12/12 [==============================] - 0s 2ms/step - loss: 0.4121 - accuracy: 0.8064\n",
            "Epoch 83/150\n",
            "12/12 [==============================] - 0s 3ms/step - loss: 0.4120 - accuracy: 0.8091\n",
            "Epoch 84/150\n",
            "12/12 [==============================] - 0s 2ms/step - loss: 0.4084 - accuracy: 0.8136\n",
            "Epoch 85/150\n",
            "12/12 [==============================] - 0s 2ms/step - loss: 0.4107 - accuracy: 0.8109\n",
            "Epoch 86/150\n",
            "12/12 [==============================] - 0s 2ms/step - loss: 0.4065 - accuracy: 0.8216\n",
            "Epoch 87/150\n",
            "12/12 [==============================] - 0s 2ms/step - loss: 0.4077 - accuracy: 0.8046\n",
            "Epoch 88/150\n",
            "12/12 [==============================] - 0s 2ms/step - loss: 0.4055 - accuracy: 0.8136\n",
            "Epoch 89/150\n",
            "12/12 [==============================] - 0s 2ms/step - loss: 0.4057 - accuracy: 0.8145\n",
            "Epoch 90/150\n",
            "12/12 [==============================] - 0s 2ms/step - loss: 0.4014 - accuracy: 0.8171\n",
            "Epoch 91/150\n",
            "12/12 [==============================] - 0s 2ms/step - loss: 0.4022 - accuracy: 0.8189\n",
            "Epoch 92/150\n",
            "12/12 [==============================] - 0s 2ms/step - loss: 0.4078 - accuracy: 0.8073\n",
            "Epoch 93/150\n",
            "12/12 [==============================] - 0s 2ms/step - loss: 0.4033 - accuracy: 0.8136\n",
            "Epoch 94/150\n",
            "12/12 [==============================] - 0s 2ms/step - loss: 0.3976 - accuracy: 0.8189\n",
            "Epoch 95/150\n",
            "12/12 [==============================] - 0s 2ms/step - loss: 0.3969 - accuracy: 0.8171\n",
            "Epoch 96/150\n",
            "12/12 [==============================] - 0s 3ms/step - loss: 0.4017 - accuracy: 0.8171\n",
            "Epoch 97/150\n",
            "12/12 [==============================] - 0s 2ms/step - loss: 0.3996 - accuracy: 0.8189\n",
            "Epoch 98/150\n",
            "12/12 [==============================] - 0s 2ms/step - loss: 0.3985 - accuracy: 0.8189\n",
            "Epoch 99/150\n",
            "12/12 [==============================] - 0s 2ms/step - loss: 0.3984 - accuracy: 0.8252\n",
            "Epoch 100/150\n",
            "12/12 [==============================] - 0s 2ms/step - loss: 0.3942 - accuracy: 0.8207\n",
            "Epoch 101/150\n",
            "12/12 [==============================] - 0s 2ms/step - loss: 0.3940 - accuracy: 0.8207\n",
            "Epoch 102/150\n",
            "12/12 [==============================] - 0s 2ms/step - loss: 0.3937 - accuracy: 0.8207\n",
            "Epoch 103/150\n",
            "12/12 [==============================] - 0s 2ms/step - loss: 0.3929 - accuracy: 0.8180\n",
            "Epoch 104/150\n",
            "12/12 [==============================] - 0s 2ms/step - loss: 0.3922 - accuracy: 0.8189\n",
            "Epoch 105/150\n",
            "12/12 [==============================] - 0s 2ms/step - loss: 0.3913 - accuracy: 0.8269\n",
            "Epoch 106/150\n",
            "12/12 [==============================] - 0s 3ms/step - loss: 0.3922 - accuracy: 0.8207\n",
            "Epoch 107/150\n",
            "12/12 [==============================] - 0s 2ms/step - loss: 0.4005 - accuracy: 0.8207\n",
            "Epoch 108/150\n",
            "12/12 [==============================] - 0s 2ms/step - loss: 0.3952 - accuracy: 0.8153\n",
            "Epoch 109/150\n",
            "12/12 [==============================] - 0s 3ms/step - loss: 0.3894 - accuracy: 0.8207\n",
            "Epoch 110/150\n",
            "12/12 [==============================] - 0s 3ms/step - loss: 0.3944 - accuracy: 0.8162\n",
            "Epoch 111/150\n",
            "12/12 [==============================] - 0s 3ms/step - loss: 0.3849 - accuracy: 0.8243\n",
            "Epoch 112/150\n",
            "12/12 [==============================] - 0s 2ms/step - loss: 0.3861 - accuracy: 0.8269\n",
            "Epoch 113/150\n",
            "12/12 [==============================] - 0s 2ms/step - loss: 0.3845 - accuracy: 0.8252\n",
            "Epoch 114/150\n",
            "12/12 [==============================] - 0s 2ms/step - loss: 0.3863 - accuracy: 0.8234\n",
            "Epoch 115/150\n",
            "12/12 [==============================] - 0s 2ms/step - loss: 0.3877 - accuracy: 0.8287\n",
            "Epoch 116/150\n",
            "12/12 [==============================] - 0s 2ms/step - loss: 0.3818 - accuracy: 0.8189\n",
            "Epoch 117/150\n",
            "12/12 [==============================] - 0s 2ms/step - loss: 0.3822 - accuracy: 0.8287\n",
            "Epoch 118/150\n",
            "12/12 [==============================] - 0s 2ms/step - loss: 0.3834 - accuracy: 0.8171\n",
            "Epoch 119/150\n",
            "12/12 [==============================] - 0s 2ms/step - loss: 0.3848 - accuracy: 0.8252\n",
            "Epoch 120/150\n",
            "12/12 [==============================] - 0s 2ms/step - loss: 0.3834 - accuracy: 0.8153\n",
            "Epoch 121/150\n",
            "12/12 [==============================] - 0s 2ms/step - loss: 0.3800 - accuracy: 0.8296\n",
            "Epoch 122/150\n",
            "12/12 [==============================] - 0s 2ms/step - loss: 0.3763 - accuracy: 0.8341\n",
            "Epoch 123/150\n",
            "12/12 [==============================] - 0s 2ms/step - loss: 0.3779 - accuracy: 0.8287\n",
            "Epoch 124/150\n",
            "12/12 [==============================] - 0s 2ms/step - loss: 0.3814 - accuracy: 0.8278\n",
            "Epoch 125/150\n",
            "12/12 [==============================] - 0s 2ms/step - loss: 0.3782 - accuracy: 0.8305\n",
            "Epoch 126/150\n",
            "12/12 [==============================] - 0s 2ms/step - loss: 0.3813 - accuracy: 0.8296\n",
            "Epoch 127/150\n",
            "12/12 [==============================] - 0s 3ms/step - loss: 0.3793 - accuracy: 0.8234\n",
            "Epoch 128/150\n",
            "12/12 [==============================] - 0s 2ms/step - loss: 0.3788 - accuracy: 0.8323\n",
            "Epoch 129/150\n",
            "12/12 [==============================] - 0s 2ms/step - loss: 0.3732 - accuracy: 0.8305\n",
            "Epoch 130/150\n",
            "12/12 [==============================] - 0s 2ms/step - loss: 0.3738 - accuracy: 0.8234\n",
            "Epoch 131/150\n",
            "12/12 [==============================] - 0s 2ms/step - loss: 0.3756 - accuracy: 0.8269\n",
            "Epoch 132/150\n",
            "12/12 [==============================] - 0s 2ms/step - loss: 0.3751 - accuracy: 0.8287\n",
            "Epoch 133/150\n",
            "12/12 [==============================] - 0s 2ms/step - loss: 0.3703 - accuracy: 0.8314\n",
            "Epoch 134/150\n",
            "12/12 [==============================] - 0s 2ms/step - loss: 0.3701 - accuracy: 0.8314\n",
            "Epoch 135/150\n",
            "12/12 [==============================] - 0s 2ms/step - loss: 0.3715 - accuracy: 0.8278\n",
            "Epoch 136/150\n",
            "12/12 [==============================] - 0s 2ms/step - loss: 0.3726 - accuracy: 0.8287\n",
            "Epoch 137/150\n",
            "12/12 [==============================] - 0s 2ms/step - loss: 0.3737 - accuracy: 0.8350\n",
            "Epoch 138/150\n",
            "12/12 [==============================] - 0s 2ms/step - loss: 0.3678 - accuracy: 0.8359\n",
            "Epoch 139/150\n",
            "12/12 [==============================] - 0s 3ms/step - loss: 0.3662 - accuracy: 0.8376\n",
            "Epoch 140/150\n",
            "12/12 [==============================] - 0s 2ms/step - loss: 0.3705 - accuracy: 0.8332\n",
            "Epoch 141/150\n",
            "12/12 [==============================] - 0s 2ms/step - loss: 0.3656 - accuracy: 0.8350\n",
            "Epoch 142/150\n",
            "12/12 [==============================] - 0s 2ms/step - loss: 0.3664 - accuracy: 0.8332\n",
            "Epoch 143/150\n",
            "12/12 [==============================] - 0s 3ms/step - loss: 0.3660 - accuracy: 0.8296\n",
            "Epoch 144/150\n",
            "12/12 [==============================] - 0s 3ms/step - loss: 0.3622 - accuracy: 0.8305\n",
            "Epoch 145/150\n",
            "12/12 [==============================] - 0s 2ms/step - loss: 0.3715 - accuracy: 0.8305\n",
            "Epoch 146/150\n",
            "12/12 [==============================] - 0s 2ms/step - loss: 0.3690 - accuracy: 0.8332\n",
            "Epoch 147/150\n",
            "12/12 [==============================] - 0s 2ms/step - loss: 0.3650 - accuracy: 0.8403\n",
            "Epoch 148/150\n",
            "12/12 [==============================] - 0s 3ms/step - loss: 0.3650 - accuracy: 0.8350\n",
            "Epoch 149/150\n",
            "12/12 [==============================] - 0s 2ms/step - loss: 0.3608 - accuracy: 0.8368\n",
            "Epoch 150/150\n",
            "12/12 [==============================] - 0s 2ms/step - loss: 0.3600 - accuracy: 0.8368\n"
          ],
          "name": "stdout"
        },
        {
          "output_type": "execute_result",
          "data": {
            "text/plain": [
              "<tensorflow.python.keras.callbacks.History at 0x7f12f2fcc410>"
            ]
          },
          "metadata": {
            "tags": []
          },
          "execution_count": 389
        }
      ]
    },
    {
      "cell_type": "code",
      "metadata": {
        "id": "vC_wTuayEzrT"
      },
      "source": [
        "y_pred=model.predict(x_tst)\n",
        "y_pred=  (y_pred>0.5)\n",
        "y_trpred=model.predict(x_tr)\n",
        "y_trpred=  (y_trpred>0.5)\n"
      ],
      "execution_count": 390,
      "outputs": []
    },
    {
      "cell_type": "code",
      "metadata": {
        "colab": {
          "base_uri": "https://localhost:8080/"
        },
        "id": "xz9mt_lUFosJ",
        "outputId": "7284d8e5-fd31-4246-8028-e5eebc1aa862"
      },
      "source": [
        "from sklearn.metrics import confusion_matrix,classification_report\n",
        "conf_mat=confusion_matrix(y_tst,y_pred)\n",
        "print(conf_mat)\n",
        "conf_mat1=confusion_matrix(y_tr,y_trpred)\n",
        "print(conf_mat1)"
      ],
      "execution_count": 391,
      "outputs": [
        {
          "output_type": "stream",
          "text": [
            "[[15  3]\n",
            " [ 3  9]]\n",
            "[[452  70]\n",
            " [110 489]]\n"
          ],
          "name": "stdout"
        }
      ]
    },
    {
      "cell_type": "code",
      "metadata": {
        "colab": {
          "base_uri": "https://localhost:8080/",
          "height": 265
        },
        "id": "n-IYiaBbHRCP",
        "outputId": "67972728-0a36-4331-dd86-baeba2cd3429"
      },
      "source": [
        "sns.heatmap(conf_mat1,annot=True)\n",
        "plt.savefig('epilepticmatrix.png')"
      ],
      "execution_count": 392,
      "outputs": [
        {
          "output_type": "display_data",
          "data": {
            "image/png": "[encoded data removed]",
            "text/plain": [
              "<Figure size 432x288 with 2 Axes>"
            ]
          },
          "metadata": {
            "tags": [],
            "needs_background": "light"
          }
        }
      ]
    },
    {
      "cell_type": "code",
      "metadata": {
        "colab": {
          "base_uri": "https://localhost:8080/",
          "height": 265
        },
        "id": "rVtXVGZBHf44",
        "outputId": "a755c0d9-baad-4ae3-d47a-6439a23a0871"
      },
      "source": [
        "sns.heatmap(conf_mat,annot=True)\n",
        "plt.savefig('epilepticmatrix1.png')"
      ],
      "execution_count": 393,
      "outputs": [
        {
          "output_type": "display_data",
          "data": {
            "image/png": "[encoded data removed]",
            "text/plain": [
              "<Figure size 432x288 with 2 Axes>"
            ]
          },
          "metadata": {
            "tags": [],
            "needs_background": "light"
          }
        }
      ]
    },
    {
      "cell_type": "code",
      "metadata": {
        "colab": {
          "base_uri": "https://localhost:8080/"
        },
        "id": "BaBxj-GbI492",
        "outputId": "837679d7-ad20-4e1a-ba58-c69ed5875230"
      },
      "source": [
        "report=classification_report(y_tr,y_trpred)\n",
        "print('Classification report for trained data')\n",
        "print(report)\n",
        "print('classification report for test data')\n",
        "report=classification_report(y_tst,y_pred)\n",
        "print(report)"
      ],
      "execution_count": 394,
      "outputs": [
        {
          "output_type": "stream",
          "text": [
            "Classification report for trained data\n",
            "              precision    recall  f1-score   support\n",
            "\n",
            "           0       0.80      0.87      0.83       522\n",
            "           1       0.87      0.82      0.84       599\n",
            "\n",
            "    accuracy                           0.84      1121\n",
            "   macro avg       0.84      0.84      0.84      1121\n",
            "weighted avg       0.84      0.84      0.84      1121\n",
            "\n",
            "classification report for test data\n",
            "              precision    recall  f1-score   support\n",
            "\n",
            "           0       0.83      0.83      0.83        18\n",
            "           1       0.75      0.75      0.75        12\n",
            "\n",
            "    accuracy                           0.80        30\n",
            "   macro avg       0.79      0.79      0.79        30\n",
            "weighted avg       0.80      0.80      0.80        30\n",
            "\n"
          ],
          "name": "stdout"
        }
      ]
    }
  ]
}