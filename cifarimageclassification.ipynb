{
  "nbformat": 4,
  "nbformat_minor": 5,
  "metadata": {
    "kernelspec": {
      "display_name": "Python 3",
      "language": "python",
      "name": "python3"
    },
    "language_info": {
      "codemirror_mode": {
        "name": "ipython",
        "version": 3
      },
      "file_extension": ".py",
      "mimetype": "text/x-python",
      "name": "python",
      "nbconvert_exporter": "python",
      "pygments_lexer": "ipython3",
      "version": "3.8.8"
    },
    "colab": {
      "name": "con_neural_network.ipynb",
      "provenance": [],
      "collapsed_sections": [],
      "include_colab_link": true
    },
    "accelerator": "TPU"
  },
  "cells": [
    {
      "cell_type": "markdown",
      "metadata": {
        "id": "view-in-github",
        "colab_type": "text"
      },
      "source": [
        "<a href=\"https://colab.research.google.com/github/shaluduggal/shaluduggal/blob/machinelearning/cifarimageclassification.ipynb\" target=\"_parent\"><img src=\"https://colab.research.google.com/assets/colab-badge.svg\" alt=\"Open In Colab\"/></a>"
      ]
    },
    {
      "cell_type": "code",
      "metadata": {
        "id": "f8ba97d7"
      },
      "source": [
        "import tensorflow as tf\n",
        "from tensorflow.keras import datasets, layers, models\n",
        "import matplotlib.pyplot as plt\n",
        "from tensorflow.keras.preprocessing.image import ImageDataGenerator \n",
        "from tensorflow.keras.preprocessing import image\n",
        "from tensorflow.keras.layers import Dense,Conv2D,MaxPooling2D,Flatten,Dropout\n",
        "from tensorflow.keras.models import Sequential\n",
        "from tensorflow.keras import optimizers\n"
      ],
      "id": "f8ba97d7",
      "execution_count": 45,
      "outputs": []
    },
    {
      "cell_type": "markdown",
      "metadata": {
        "id": "SQwZpBo57xFo"
      },
      "source": [
        ""
      ],
      "id": "SQwZpBo57xFo"
    },
    {
      "cell_type": "code",
      "metadata": {
        "colab": {
          "base_uri": "https://localhost:8080/"
        },
        "id": "97xiRKzmHzdO",
        "outputId": "dd3dcbac-c023-4e4f-ac17-dabcf1287870"
      },
      "source": [
        "#mounting google drive to access files\n",
        "#accessing data from google drive\n",
        "#from google.colab import drive\n",
        "#drive.mount('/content/drive')\n",
        "#accessing zipped file\n",
        "#from zipfile import ZipFile\n",
        "#filename=\"/content/drive/MyDrive/coronaimage.zip\"\n",
        "#with ZipFile(filename,'r') as zip:\n",
        "#  zip.extractall()\n",
        "#  print('finish')\n"
      ],
      "id": "97xiRKzmHzdO",
      "execution_count": 2,
      "outputs": [
        {
          "output_type": "stream",
          "text": [
            "Mounted at /content/drive\n"
          ],
          "name": "stdout"
        }
      ]
    },
    {
      "cell_type": "code",
      "metadata": {
        "id": "765e66da"
      },
      "source": [
        "# The CIFAR10 dataset contains 60,000 color images in 10 classes, with 6,000 images in each class. The dataset is divided into 50,000 training images and 10,000 testing images. **\n",
        "(train_images, train_labels), (test_images, test_labels) = datasets.cifar10.load_data()\n"
      ],
      "id": "765e66da",
      "execution_count": 49,
      "outputs": []
    },
    {
      "cell_type": "code",
      "metadata": {
        "colab": {
          "base_uri": "https://localhost:8080/"
        },
        "id": "udkYBTikoda4",
        "outputId": "0727dfda-2ca5-4c56-e71e-9bea52a5a249"
      },
      "source": [
        "\n",
        " #Normalize pixel values, encoding labels\n",
        "#train_images, test_images = (train_images / 255.0)-0.5, (test_images / 255.0)-0.5\n",
        "#train_labels=tf.keras.utils.to_categorical(train_labels)\n",
        "#test_labels=tf.keras.utils.to_categorical(test_labels)\n",
        "#test_labels[0][0]\n"
      ],
      "id": "udkYBTikoda4",
      "execution_count": 39,
      "outputs": [
        {
          "output_type": "stream",
          "text": [
            "(50000, 32, 32, 3)\n"
          ],
          "name": "stdout"
        }
      ]
    },
    {
      "cell_type": "code",
      "metadata": {
        "colab": {
          "base_uri": "https://localhost:8080/"
        },
        "id": "Yl-7ikusII6u",
        "outputId": "ed33bc5d-0be9-4564-fc32-33086045a9a9"
      },
      "source": [
        "#checking image shape\n",
        "tst_image=train_images[14]\n",
        "tst_img1=image.img_to_array(tst_image)\n",
        "tst_img1.reshape((1,)+tst_img1.shape)\n",
        "tst_img1.shape\n"
      ],
      "id": "Yl-7ikusII6u",
      "execution_count": 50,
      "outputs": [
        {
          "output_type": "execute_result",
          "data": {
            "text/plain": [
              "(32, 32, 3)"
            ]
          },
          "metadata": {
            "tags": []
          },
          "execution_count": 50
        }
      ]
    },
    {
      "cell_type": "code",
      "metadata": {
        "id": "OTtQ4nwaRRbD",
        "colab": {
          "base_uri": "https://localhost:8080/"
        },
        "outputId": "bce59815-2aaa-4239-9113-a79c8813f3ca"
      },
      "source": [
        "#CNN Model for classification, Adding Conv, Pooling and flattening layer\n",
        "opt=optimizers.Adagrad(learning_rate=0.001)\n",
        "cnn_model=Sequential()\n",
        "cnn_model.add(Conv2D(filters=128,padding='same',kernel_size=(3,3),strides=(1,1),input_shape=(32,32,3),activation='relu'))\n",
        "cnn_model.add(MaxPooling2D(pool_size=(2,2)))\n",
        "cnn_model.add(Conv2D(filters=64,kernel_size=(3,3),padding='same',strides=(1,1),activation='relu'))\n",
        "cnn_model.add(MaxPooling2D(pool_size=(2,2)))\n",
        "cnn_model.add(Dropout(rate=0.2))\n",
        "cnn_model.add(Conv2D(filters=64,kernel_size=(3,3),strides=(1,1),padding='same',activation='relu'))\n",
        "cnn_model.add(MaxPooling2D(pool_size=(2,2)))\n",
        "#cnn_model.add(Dropout(rate=0.2))\n",
        "#adding FC layer and dense layer\n",
        "cnn_model.add(Flatten())\n",
        "cnn_model.add(Dense(units=128,activation='relu'))\n",
        "cnn_model.add(Dropout(rate=0.2))\n",
        "cnn_model.add(Dense(units=256,activation='relu'))\n",
        "cnn_model.add(Dropout(rate=0.2))\n",
        "cnn_model.add(Dense(units=128,activation='relu'))\n",
        "cnn_model.add(Dropout(rate=0.2))\n",
        "cnn_model.add(Dense(units=10,activation='softmax'))\n",
        "print(cnn_model.summary())\n",
        "#compiling the model\n",
        "\n",
        "cnn_model.compile(optimizer=opt,loss='categorical_crossentropy',metrics=['accuracy'])\n"
      ],
      "id": "OTtQ4nwaRRbD",
      "execution_count": 56,
      "outputs": [
        {
          "output_type": "stream",
          "text": [
            "Model: \"sequential_14\"\n",
            "_________________________________________________________________\n",
            "Layer (type)                 Output Shape              Param #   \n",
            "=================================================================\n",
            "conv2d_39 (Conv2D)           (None, 32, 32, 128)       3584      \n",
            "_________________________________________________________________\n",
            "max_pooling2d_39 (MaxPooling (None, 16, 16, 128)       0         \n",
            "_________________________________________________________________\n",
            "conv2d_40 (Conv2D)           (None, 16, 16, 64)        73792     \n",
            "_________________________________________________________________\n",
            "max_pooling2d_40 (MaxPooling (None, 8, 8, 64)          0         \n",
            "_________________________________________________________________\n",
            "dropout_48 (Dropout)         (None, 8, 8, 64)          0         \n",
            "_________________________________________________________________\n",
            "conv2d_41 (Conv2D)           (None, 8, 8, 64)          36928     \n",
            "_________________________________________________________________\n",
            "max_pooling2d_41 (MaxPooling (None, 4, 4, 64)          0         \n",
            "_________________________________________________________________\n",
            "flatten_14 (Flatten)         (None, 1024)              0         \n",
            "_________________________________________________________________\n",
            "dense_48 (Dense)             (None, 128)               131200    \n",
            "_________________________________________________________________\n",
            "dropout_49 (Dropout)         (None, 128)               0         \n",
            "_________________________________________________________________\n",
            "dense_49 (Dense)             (None, 256)               33024     \n",
            "_________________________________________________________________\n",
            "dropout_50 (Dropout)         (None, 256)               0         \n",
            "_________________________________________________________________\n",
            "dense_50 (Dense)             (None, 128)               32896     \n",
            "_________________________________________________________________\n",
            "dropout_51 (Dropout)         (None, 128)               0         \n",
            "_________________________________________________________________\n",
            "dense_51 (Dense)             (None, 10)                1290      \n",
            "=================================================================\n",
            "Total params: 312,714\n",
            "Trainable params: 312,714\n",
            "Non-trainable params: 0\n",
            "_________________________________________________________________\n",
            "None\n"
          ],
          "name": "stdout"
        }
      ]
    },
    {
      "cell_type": "code",
      "metadata": {
        "id": "ulefB5ip3VHf"
      },
      "source": [
        "# Image Augmentation to avoid Overfitting (Transformed zoomed rotated scaled images - generator)\n",
        "from keras.preprocessing.image import ImageDataGenerator, array_to_img, img_to_array, load_img\n",
        "train_datagen = ImageDataGenerator(rotation_range=40, width_shift_range=0.2,height_shift_range=0.2,shear_range=0.2,zoom_range=0.2,horizontal_flip=True,fill_mode='nearest',rescale=1.0/255)\n",
        "test_datagen = ImageDataGenerator(rescale=1.0/255)\n",
        "train_data = train_datagen.flow(train_images,train_labels, batch_size=32)\n",
        "test_data=test_datagen.flow(test_images,test_labels,batch_size=32)\n",
        "\n"
      ],
      "id": "ulefB5ip3VHf",
      "execution_count": 57,
      "outputs": []
    },
    {
      "cell_type": "code",
      "metadata": {
        "colab": {
          "base_uri": "https://localhost:8080/"
        },
        "id": "8Q00fSb2ibPF",
        "outputId": "e76b5650-211d-4e96-8712-d22459972f6d"
      },
      "source": [
        "#fitting model\n",
        "cnn_model.fit_generator(train_data,epochs=200,steps_per_epoch=7000,validation_steps= 2000,shuffle=True,validation_data=test_data)\n",
        "cnn_model.save_weights('first_try.h5')  # always save your weights after tining or during training\n"
      ],
      "id": "8Q00fSb2ibPF",
      "execution_count": 58,
      "outputs": [
        {
          "output_type": "stream",
          "text": [
            "/usr/local/lib/python3.7/dist-packages/tensorflow/python/keras/engine/training.py:1940: UserWarning: `Model.fit_generator` is deprecated and will be removed in a future version. Please use `Model.fit`, which supports generators.\n",
            "  warnings.warn('`Model.fit_generator` is deprecated and '\n"
          ],
          "name": "stderr"
        },
        {
          "output_type": "stream",
          "text": [
            "Epoch 1/200\n",
            "1563/7000 [=====>........................] - ETA: 16:23 - loss: 189001859072.0000 - accuracy: 0.7210WARNING:tensorflow:Your input ran out of data; interrupting training. Make sure that your dataset or generator can generate at least `steps_per_epoch * epochs` batches (in this case, 1400000 batches). You may need to use the repeat() function when building your dataset.\n",
            "WARNING:tensorflow:Your input ran out of data; interrupting training. Make sure that your dataset or generator can generate at least `steps_per_epoch * epochs` batches (in this case, 2000 batches). You may need to use the repeat() function when building your dataset.\n"
          ],
          "name": "stdout"
        }
      ]
    },
    {
      "cell_type": "code",
      "metadata": {
        "id": "7Rr251ePWZls"
      },
      "source": [
        "\n"
      ],
      "id": "7Rr251ePWZls",
      "execution_count": null,
      "outputs": []
    },
    {
      "cell_type": "code",
      "metadata": {
        "id": "8b3f2a28",
        "outputId": "52ae7808-9a2f-4d45-fd3c-fc90e9ae65c3"
      },
      "source": [
        "plt.plot(history.history['accuracy'], label='accuracy')\n",
        "plt.plot(history.history['val_accuracy'], label = 'val_accuracy')\n",
        "plt.xlabel('Epoch')\n",
        "plt.ylabel('Accuracy')\n",
        "plt.ylim([0.5, 1])\n",
        "plt.legend(loc='lower right')\n",
        "test_loss, test_acc = model.evaluate(test_images,  test_labels, verbose=2)"
      ],
      "id": "8b3f2a28",
      "execution_count": null,
      "outputs": [
        {
          "output_type": "stream",
          "text": [
            "313/313 - 2s - loss: 0.8608 - accuracy: 0.7102\n"
          ],
          "name": "stdout"
        },
        {
          "output_type": "display_data",
          "data": {
            "image/png": "[encoded data removed]",
            "text/plain": [
              "<Figure size 432x288 with 1 Axes>"
            ]
          },
          "metadata": {
            "tags": [],
            "needs_background": "light"
          }
        }
      ]
    },
    {
      "cell_type": "code",
      "metadata": {
        "id": "9192e3ef",
        "outputId": "a1e65b55-6b3d-4b1d-c6fa-a8131ba1814e"
      },
      "source": [
        "print(test_acc)"
      ],
      "id": "9192e3ef",
      "execution_count": null,
      "outputs": [
        {
          "output_type": "stream",
          "text": [
            "0.7102000117301941\n"
          ],
          "name": "stdout"
        }
      ]
    }
  ]
}