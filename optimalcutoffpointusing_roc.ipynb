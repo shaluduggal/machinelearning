{
  "nbformat": 4,
  "nbformat_minor": 0,
  "metadata": {
    "kernelspec": {
      "display_name": "Python 3",
      "language": "python",
      "name": "python3"
    },
    "language_info": {
      "codemirror_mode": {
        "name": "ipython",
        "version": 3
      },
      "file_extension": ".py",
      "mimetype": "text/x-python",
      "name": "python",
      "nbconvert_exporter": "python",
      "pygments_lexer": "ipython3",
      "version": "3.8.5"
    },
    "colab": {
      "name": "optimalcutoffpointusing roc.ipynb",
      "provenance": [],
      "include_colab_link": true
    }
  },
  "cells": [
    {
      "cell_type": "markdown",
      "metadata": {
        "id": "view-in-github",
        "colab_type": "text"
      },
      "source": [
        "<a href=\"https://colab.research.google.com/github/shaluduggal/shaluduggal/blob/machinelearning/optimalcutoffpointusing_roc.ipynb\" target=\"_parent\"><img src=\"https://colab.research.google.com/assets/colab-badge.svg\" alt=\"Open In Colab\"/></a>"
      ]
    },
    {
      "cell_type": "code",
      "metadata": {
        "id": "A-2KEmFEn7u1"
      },
      "source": [
        "import numpy as np\n",
        "import pandas as pd\n",
        "import matplotlib.pyplot as plt\n",
        "from sklearn.linear_model import LogisticRegression\n",
        "import seaborn as sns\n",
        "from sklearn import metrics\n",
        "from sklearn.preprocessing import StandardScaler \n",
        "from sklearn.model_selection import train_test_split"
      ],
      "execution_count": null,
      "outputs": []
    },
    {
      "cell_type": "code",
      "metadata": {
        "id": "UR78CjYwn7u4",
        "outputId": "ad9b0bbf-2f9b-4ea9-c3c4-0ca4a0432eed"
      },
      "source": [
        "df=pd.read_csv(\"c:\\dataset\\diabetes.csv\")\n",
        "df\n",
        "X=df.iloc[:,:8]\n",
        "y=df['Outcome']\n",
        "X=StandardScaler().fit_transform(X)\n",
        "X"
      ],
      "execution_count": null,
      "outputs": [
        {
          "output_type": "execute_result",
          "data": {
            "text/plain": [
              "array([[ 0.63994726,  0.84832379,  0.14964075, ...,  0.20401277,\n",
              "         0.46849198,  1.4259954 ],\n",
              "       [-0.84488505, -1.12339636, -0.16054575, ..., -0.68442195,\n",
              "        -0.36506078, -0.19067191],\n",
              "       [ 1.23388019,  1.94372388, -0.26394125, ..., -1.10325546,\n",
              "         0.60439732, -0.10558415],\n",
              "       ...,\n",
              "       [ 0.3429808 ,  0.00330087,  0.14964075, ..., -0.73518964,\n",
              "        -0.68519336, -0.27575966],\n",
              "       [-0.84488505,  0.1597866 , -0.47073225, ..., -0.24020459,\n",
              "        -0.37110101,  1.17073215],\n",
              "       [-0.84488505, -0.8730192 ,  0.04624525, ..., -0.20212881,\n",
              "        -0.47378505, -0.87137393]])"
            ]
          },
          "metadata": {
            "tags": []
          },
          "execution_count": 2
        }
      ]
    },
    {
      "cell_type": "code",
      "metadata": {
        "id": "Q7hqYUF-n7u5",
        "outputId": "732721ce-da2f-4a10-e53e-82f47b33a36c"
      },
      "source": [
        "print(df['Outcome'].value_counts(normalize=True))\n",
        "sns.countplot(df['Outcome'])"
      ],
      "execution_count": null,
      "outputs": [
        {
          "output_type": "stream",
          "text": [
            "0    0.651042\n",
            "1    0.348958\n",
            "Name: Outcome, dtype: float64\n"
          ],
          "name": "stdout"
        },
        {
          "output_type": "stream",
          "text": [
            "C:\\Users\\DELL\\anaconda3\\lib\\site-packages\\seaborn\\_decorators.py:36: FutureWarning: Pass the following variable as a keyword arg: x. From version 0.12, the only valid positional argument will be `data`, and passing other arguments without an explicit keyword will result in an error or misinterpretation.\n",
            "  warnings.warn(\n"
          ],
          "name": "stderr"
        },
        {
          "output_type": "execute_result",
          "data": {
            "text/plain": [
              "<AxesSubplot:xlabel='Outcome', ylabel='count'>"
            ]
          },
          "metadata": {
            "tags": []
          },
          "execution_count": 3
        },
        {
          "output_type": "display_data",
          "data": {
            "image/png": "[encoded data removed]",
            "text/plain": [
              "<Figure size 432x288 with 1 Axes>"
            ]
          },
          "metadata": {
            "tags": [],
            "needs_background": "light"
          }
        }
      ]
    },
    {
      "cell_type": "code",
      "metadata": {
        "id": "8tslpI2en7u5"
      },
      "source": [
        "x_train,x_test,y_train,y_test=train_test_split(X,y,test_size=0.3,random_state=0)"
      ],
      "execution_count": null,
      "outputs": []
    },
    {
      "cell_type": "code",
      "metadata": {
        "id": "I8H4IzYBn7u5"
      },
      "source": [
        "model=LogisticRegression()\n",
        "model=model.fit(x_train,y_train)\n",
        "#with prob > .5 or <0.5 as 1  0\n"
      ],
      "execution_count": null,
      "outputs": []
    },
    {
      "cell_type": "code",
      "metadata": {
        "id": "fSSRIN4gn7u6",
        "outputId": "836c2348-1c92-47a5-c07a-69c40f5fe187"
      },
      "source": [
        "y_pred=model.predict(x_train)\n",
        "#generate class probabilities 2 array in prob ist ele. for neg class , iind ele. for pos. class\n",
        "probs=model.predict_proba(x_train)\n",
        "y_pred_prob=probs[:,1]\n",
        "y_pred_prob\n",
        "print('accuracy:',metrics.accuracy_score(y_train,y_pred))"
      ],
      "execution_count": null,
      "outputs": [
        {
          "output_type": "stream",
          "text": [
            "accuracy: 0.7635009310986964\n"
          ],
          "name": "stdout"
        }
      ]
    },
    {
      "cell_type": "code",
      "metadata": {
        "id": "tkBNvvKIn7u6",
        "outputId": "384f1fb9-56b5-4f1d-ea85-195f0eaedaa0"
      },
      "source": [
        "#find optimal cutoff point\n",
        "fpr,tpr,thresholds=metrics.roc_curve(y_train,y_pred_prob)\n",
        "roc_auc=metrics.auc(fpr,tpr)\n",
        "print('area under cover %f'%roc_auc)\n"
      ],
      "execution_count": null,
      "outputs": [
        {
          "output_type": "stream",
          "text": [
            "area under cover 0.837907\n"
          ],
          "name": "stdout"
        }
      ]
    },
    {
      "cell_type": "code",
      "metadata": {
        "id": "CsfubrGSn7u6",
        "outputId": "30f1f683-a2d3-4318-ca0c-c126fc524e5a"
      },
      "source": [
        "i=np.arange(len(tpr))\n",
        "roc=pd.DataFrame({'fpr':pd.Series(fpr,index=i),'tpr':pd.Series(tpr,index=i),'1-fpr':pd.Series(1-fpr,index=i),'tf':pd.Series(tpr-(1-fpr),index=i),'thresholds':pd.Series(thresholds,index=i)})\n",
        "roc[[thresolds]]"
      ],
      "execution_count": null,
      "outputs": [
        {
          "output_type": "execute_result",
          "data": {
            "text/html": [
              "<div>\n",
              "<style scoped>\n",
              "    .dataframe tbody tr th:only-of-type {\n",
              "        vertical-align: middle;\n",
              "    }\n",
              "\n",
              "    .dataframe tbody tr th {\n",
              "        vertical-align: top;\n",
              "    }\n",
              "\n",
              "    .dataframe thead th {\n",
              "        text-align: right;\n",
              "    }\n",
              "</style>\n",
              "<table border=\"1\" class=\"dataframe\">\n",
              "  <thead>\n",
              "    <tr style=\"text-align: right;\">\n",
              "      <th></th>\n",
              "      <th>fpr</th>\n",
              "      <th>tpr</th>\n",
              "      <th>1-fpr</th>\n",
              "      <th>tf</th>\n",
              "      <th>thresholds</th>\n",
              "    </tr>\n",
              "  </thead>\n",
              "  <tbody>\n",
              "    <tr>\n",
              "      <th>0</th>\n",
              "      <td>0.000000</td>\n",
              "      <td>0.000000</td>\n",
              "      <td>1.000000</td>\n",
              "      <td>-1.000000</td>\n",
              "      <td>1.991127</td>\n",
              "    </tr>\n",
              "    <tr>\n",
              "      <th>1</th>\n",
              "      <td>0.000000</td>\n",
              "      <td>0.005155</td>\n",
              "      <td>1.000000</td>\n",
              "      <td>-0.994845</td>\n",
              "      <td>0.991127</td>\n",
              "    </tr>\n",
              "    <tr>\n",
              "      <th>2</th>\n",
              "      <td>0.000000</td>\n",
              "      <td>0.025773</td>\n",
              "      <td>1.000000</td>\n",
              "      <td>-0.974227</td>\n",
              "      <td>0.948860</td>\n",
              "    </tr>\n",
              "    <tr>\n",
              "      <th>3</th>\n",
              "      <td>0.002915</td>\n",
              "      <td>0.025773</td>\n",
              "      <td>0.997085</td>\n",
              "      <td>-0.971311</td>\n",
              "      <td>0.941172</td>\n",
              "    </tr>\n",
              "    <tr>\n",
              "      <th>4</th>\n",
              "      <td>0.002915</td>\n",
              "      <td>0.030928</td>\n",
              "      <td>0.997085</td>\n",
              "      <td>-0.966157</td>\n",
              "      <td>0.940538</td>\n",
              "    </tr>\n",
              "    <tr>\n",
              "      <th>...</th>\n",
              "      <td>...</td>\n",
              "      <td>...</td>\n",
              "      <td>...</td>\n",
              "      <td>...</td>\n",
              "      <td>...</td>\n",
              "    </tr>\n",
              "    <tr>\n",
              "      <th>167</th>\n",
              "      <td>0.953353</td>\n",
              "      <td>0.989691</td>\n",
              "      <td>0.046647</td>\n",
              "      <td>0.943043</td>\n",
              "      <td>0.032722</td>\n",
              "    </tr>\n",
              "    <tr>\n",
              "      <th>168</th>\n",
              "      <td>0.953353</td>\n",
              "      <td>0.994845</td>\n",
              "      <td>0.046647</td>\n",
              "      <td>0.948198</td>\n",
              "      <td>0.029849</td>\n",
              "    </tr>\n",
              "    <tr>\n",
              "      <th>169</th>\n",
              "      <td>0.976676</td>\n",
              "      <td>0.994845</td>\n",
              "      <td>0.023324</td>\n",
              "      <td>0.971522</td>\n",
              "      <td>0.019290</td>\n",
              "    </tr>\n",
              "    <tr>\n",
              "      <th>170</th>\n",
              "      <td>0.976676</td>\n",
              "      <td>1.000000</td>\n",
              "      <td>0.023324</td>\n",
              "      <td>0.976676</td>\n",
              "      <td>0.018604</td>\n",
              "    </tr>\n",
              "    <tr>\n",
              "      <th>171</th>\n",
              "      <td>1.000000</td>\n",
              "      <td>1.000000</td>\n",
              "      <td>0.000000</td>\n",
              "      <td>1.000000</td>\n",
              "      <td>0.002622</td>\n",
              "    </tr>\n",
              "  </tbody>\n",
              "</table>\n",
              "<p>172 rows × 5 columns</p>\n",
              "</div>"
            ],
            "text/plain": [
              "          fpr       tpr     1-fpr        tf  thresholds\n",
              "0    0.000000  0.000000  1.000000 -1.000000    1.991127\n",
              "1    0.000000  0.005155  1.000000 -0.994845    0.991127\n",
              "2    0.000000  0.025773  1.000000 -0.974227    0.948860\n",
              "3    0.002915  0.025773  0.997085 -0.971311    0.941172\n",
              "4    0.002915  0.030928  0.997085 -0.966157    0.940538\n",
              "..        ...       ...       ...       ...         ...\n",
              "167  0.953353  0.989691  0.046647  0.943043    0.032722\n",
              "168  0.953353  0.994845  0.046647  0.948198    0.029849\n",
              "169  0.976676  0.994845  0.023324  0.971522    0.019290\n",
              "170  0.976676  1.000000  0.023324  0.976676    0.018604\n",
              "171  1.000000  1.000000  0.000000  1.000000    0.002622\n",
              "\n",
              "[172 rows x 5 columns]"
            ]
          },
          "metadata": {
            "tags": []
          },
          "execution_count": 8
        }
      ]
    },
    {
      "cell_type": "code",
      "metadata": {
        "id": "rK5JF9Gin7u7",
        "outputId": "6ed1d846-b0e0-4e7e-c5dc-d4b464ccee52"
      },
      "source": [
        "roc.iloc[(roc.tf-0).abs().argsort()[:1]]\n"
      ],
      "execution_count": null,
      "outputs": [
        {
          "output_type": "execute_result",
          "data": {
            "text/html": [
              "<div>\n",
              "<style scoped>\n",
              "    .dataframe tbody tr th:only-of-type {\n",
              "        vertical-align: middle;\n",
              "    }\n",
              "\n",
              "    .dataframe tbody tr th {\n",
              "        vertical-align: top;\n",
              "    }\n",
              "\n",
              "    .dataframe thead th {\n",
              "        text-align: right;\n",
              "    }\n",
              "</style>\n",
              "<table border=\"1\" class=\"dataframe\">\n",
              "  <thead>\n",
              "    <tr style=\"text-align: right;\">\n",
              "      <th></th>\n",
              "      <th>fpr</th>\n",
              "      <th>tpr</th>\n",
              "      <th>1-fpr</th>\n",
              "      <th>tf</th>\n",
              "      <th>thresholds</th>\n",
              "    </tr>\n",
              "  </thead>\n",
              "  <tbody>\n",
              "    <tr>\n",
              "      <th>98</th>\n",
              "      <td>0.244898</td>\n",
              "      <td>0.757732</td>\n",
              "      <td>0.755102</td>\n",
              "      <td>0.00263</td>\n",
              "      <td>0.339194</td>\n",
              "    </tr>\n",
              "  </tbody>\n",
              "</table>\n",
              "</div>"
            ],
            "text/plain": [
              "         fpr       tpr     1-fpr       tf  thresholds\n",
              "98  0.244898  0.757732  0.755102  0.00263    0.339194"
            ]
          },
          "metadata": {
            "tags": []
          },
          "execution_count": 9
        }
      ]
    },
    {
      "cell_type": "code",
      "metadata": {
        "id": "HY42Hg94n7u7",
        "outputId": "c0b3de1b-26fe-416c-c13f-3d4bf09e2970"
      },
      "source": [
        "fig,ax=plt.subplots()\n",
        "plt.plot(roc['tpr'],label='tpr')\n",
        "plt.plot(roc['1-fpr'],color='red',label='1-fpr')\n",
        "plt.legend(loc='best')\n",
        "plt.xlabel('1-fpr')\n",
        "plt.ylabel('tpr')\n",
        "plt.title('roc op characteristic')\n",
        "plt.show()"
      ],
      "execution_count": null,
      "outputs": [
        {
          "output_type": "display_data",
          "data": {
            "image/png": "[encoded data removed]",
            "text/plain": [
              "<Figure size 432x288 with 1 Axes>"
            ]
          },
          "metadata": {
            "tags": [],
            "needs_background": "light"
          }
        }
      ]
    },
    {
      "cell_type": "code",
      "metadata": {
        "id": "tQXiGn6jn7u7"
      },
      "source": [
        "def find_optimal_cutoff(target,predicted):\n",
        "    fpr,tpr,threshold=metrics.roc_curve(target,predicted)\n",
        "    i=np.arange(len(tpr))\n",
        "    roc=pd.DataFrame({'tf':pd.Series(tpr-(1-fpr),index=i),'thresholds':pd.Series(thresholds,index=i)})\n",
        "    roc_t=roc.iloc[(roc.tf-0).abs().argsort()[:1]]\n",
        "    print(roc_t)\n",
        "    return list(roc_t['thresholds'])"
      ],
      "execution_count": null,
      "outputs": []
    },
    {
      "cell_type": "code",
      "metadata": {
        "id": "uSBo9Mupn7u7",
        "outputId": "74f46dd0-20b7-431b-9f4b-5720cb31bef3"
      },
      "source": [
        "threshold=find_optimal_cutoff(y_train,probs[:,1])\n",
        "print('optimal prob threshold',threshold)\n",
        "y_pred_optimal=np.where(y_pred_prob>=threshold,1,0)\n",
        "print('normal accuracy',metrics.accuracy_score(y_train,y_pred))\n",
        "print('optimal cutoff accuracy',metrics.accuracy_score(y_train,y_pred_optimal))\n",
        "print('normal confusion mat',metrics.confusion_matrix(y_train,y_pred))\n",
        "print('optimal cutoff confusion matrix',metrics.confusion_matrix(y_train,y_pred_optimal))"
      ],
      "execution_count": null,
      "outputs": [
        {
          "output_type": "stream",
          "text": [
            "         tf  thresholds\n",
            "98  0.00263    0.339194\n",
            "optimal prob threshold [0.3391944773878643]\n",
            "normal accuracy 0.7635009310986964\n",
            "optimal cutoff accuracy 0.7560521415270018\n",
            "normal confusion mat [[297  46]\n",
            " [ 81 113]]\n",
            "optimal cutoff confusion matrix [[259  84]\n",
            " [ 47 147]]\n"
          ],
          "name": "stdout"
        }
      ]
    },
    {
      "cell_type": "code",
      "metadata": {
        "id": "gQcoNjvSn7u8"
      },
      "source": [
        ""
      ],
      "execution_count": null,
      "outputs": []
    }
  ]
}